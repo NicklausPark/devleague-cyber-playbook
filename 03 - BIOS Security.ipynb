{
 "cells": [
  {
   "cell_type": "markdown",
   "metadata": {},
   "source": [
    "# BIOS Security\n",
    "\n",
    "## Notable Cybersecurity Attacks Against BIOS\n",
    "\n",
    "#### Chernobyl Attack (1998)\n",
    "\n",
    "Known as CIH or Spacefiller was the first major attack on BIOS systems. Virus would install on windows memory and hooks into file access calls and infects all executing programs then flashes the BIOS rom by filling with zeros. Second payload would infect the MBR (Master Boot Record) by filling the first megabyte of the hard drive with zeros.\n",
    "\n",
    "#### Mebromi (2012) \n",
    "\n",
    "Made up of a BIOS rootkit, MBR rootkit, Trojan downloader and PE infector. Trojan deletes a specific registry value and checks for the BIOS manufacturer. This checks if the BIOS is and Award BIOS then infects the BIOS ROM and infects the Master BOOT Record (MBR) which allows an infected program to execute at each Operating System start-up. \n",
    "\n",
    "\n",
    "\n",
    "\n",
    "### BIOS (Basic Input Output System)\n",
    "\n",
    "1. The BIOS is a privleged piece of software that is generally ignored by day to day users and thus they are usually unable to comprehend the importance of it in our computers. It was first invented by Gary Kildall for operating system CP/M \n",
    "\n",
    "2. Appeared in IBM compatible PC's around 1975 and was used extensively in the CP/M operating system. \n",
    "\n",
    "3. BIOS contents are stored on an EEPROM chip (Electronically  Erasable Programmable Read only memory). This type of memory is a non-volatile memory used by most electronic devices and stores small amounts of data to be used for quick access. \n",
    "\n",
    "    - Can be overwritten\n",
    "    - Can be flashed\n",
    "    - Easily Upgraded\n",
    "    - Vulnerable to attacks because of this\n",
    "    \n",
    "### Top Bios Manufacturers\n",
    "\n",
    " - American Mega Trends\n",
    " - WinBond\n",
    " - Phoenix\n",
    " - AMI\n",
    " - IBM\n",
    " - Award\n",
    "\n",
    "#### Role of BIOS\n",
    "\n",
    "1. Establish Trust: \n",
    "\n",
    "2. Test Hardware:\n",
    "\n",
    "3. Load Additional Modules:\n",
    "\n",
    "4. Boot Device Selection:\n",
    "\n",
    "5. Start Operating System: "
   ]
  }
 ],
 "metadata": {
  "kernelspec": {
   "display_name": "Python 2",
   "language": "python",
   "name": "python2"
  },
  "language_info": {
   "codemirror_mode": {
    "name": "ipython",
    "version": 2
   },
   "file_extension": ".py",
   "mimetype": "text/x-python",
   "name": "python",
   "nbconvert_exporter": "python",
   "pygments_lexer": "ipython2",
   "version": "2.7.14"
  }
 },
 "nbformat": 4,
 "nbformat_minor": 2
}
