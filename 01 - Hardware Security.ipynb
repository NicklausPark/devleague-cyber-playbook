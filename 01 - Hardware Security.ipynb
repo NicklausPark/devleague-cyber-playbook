{
 "cells": [
  {
   "cell_type": "markdown",
   "metadata": {},
   "source": [
    "# Hardware Security\n",
    "\n",
    "1. BIOS security boot password - at the BIOS or UEFI level, you can specify a password to boot into the PC's poperation system when the machine is powered on. Prevent someone from booting from a removable devices or installing a new operation system.\n",
    "\n",
    "\n",
    "\n",
    "2. CMOS Battery - "
   ]
  },
  {
   "cell_type": "code",
   "execution_count": null,
   "metadata": {
    "collapsed": true
   },
   "outputs": [],
   "source": []
  }
 ],
 "metadata": {
  "kernelspec": {
   "display_name": "Python 2",
   "language": "python",
   "name": "python2"
  },
  "language_info": {
   "codemirror_mode": {
    "name": "ipython",
    "version": 2
   },
   "file_extension": ".py",
   "mimetype": "text/x-python",
   "name": "python",
   "nbconvert_exporter": "python",
   "pygments_lexer": "ipython2",
   "version": "2.7.14"
  }
 },
 "nbformat": 4,
 "nbformat_minor": 2
}
