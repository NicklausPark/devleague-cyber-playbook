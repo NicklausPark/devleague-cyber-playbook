{
 "cells": [
  {
   "cell_type": "markdown",
   "metadata": {},
   "source": [
    "# Windows Registry Playbook"
   ]
  },
  {
   "cell_type": "markdown",
   "metadata": {},
   "source": [
    "Things to know about the registry\n",
    "Can be very disruptive\n",
    "Non recoverable damage\n",
    "Always backup registry before editing\n",
    "\n",
    "    1. Export - \n",
    "    \n",
    "Custom configuration \n",
    "\n",
    "Human Readable, Easy to manage and edit\n",
    "\n",
    "4 data types\n",
    "\n",
    "\n"
   ]
  },
  {
   "cell_type": "markdown",
   "metadata": {},
   "source": [
    " - REG\n",
    " - BINARY\n",
    " - STRING\n",
    " - KWORD\n",
    " - DWORD\n",
    " \n",
    " "
   ]
  },
  {
   "cell_type": "code",
   "execution_count": null,
   "metadata": {
    "collapsed": true
   },
   "outputs": [],
   "source": [
    "https://technet.microsoft.com/en-us/library/bb490984.aspx"
   ]
  }
 ],
 "metadata": {
  "kernelspec": {
   "display_name": "Python 2",
   "language": "python",
   "name": "python2"
  },
  "language_info": {
   "codemirror_mode": {
    "name": "ipython",
    "version": 2
   },
   "file_extension": ".py",
   "mimetype": "text/x-python",
   "name": "python",
   "nbconvert_exporter": "python",
   "pygments_lexer": "ipython2",
   "version": "2.7.14"
  }
 },
 "nbformat": 4,
 "nbformat_minor": 2
}
